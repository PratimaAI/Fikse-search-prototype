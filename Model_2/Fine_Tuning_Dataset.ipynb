{
 "cells": [
  {
   "cell_type": "code",
   "execution_count": 2,
   "id": "e7013628",
   "metadata": {},
   "outputs": [
    {
     "name": "stdout",
     "output_type": "stream",
     "text": [
      "Generated 1007 sentence pairs (positive + negative).\n",
      "  sentence1             sentence2  label\n",
      "0      Hole        Price per hole    1.0\n",
      "1      Hole                Tailor    1.0\n",
      "2   Take in  Only existing fabric    1.0\n",
      "3   Take in                Tailor    1.0\n",
      "4   Take in     Additional fabric    1.0\n"
     ]
    }
   ],
   "source": [
    "import pandas as pd\n",
    "from datasets import Dataset\n",
    "\n",
    "df = pd.read_csv(\"Dataset_categories.csv\")\n",
    "\n",
    "sentence_pairs = []\n",
    "\n",
    "for idx, row in df.iterrows():\n",
    "    service = str(row[\"Service\"]).strip()\n",
    "    description = str(row[\"Description\"]).strip()\n",
    "    repairer = str(row[\"Type of Repairer\"]).strip()\n",
    "\n",
    "    # Positive pair: Service <-> Description (likely similar)\n",
    "    if service and description:\n",
    "        sentence_pairs.append({\n",
    "            \"sentence1\": service,\n",
    "            \"sentence2\": description,\n",
    "            \"label\": 1.0\n",
    "        })\n",
    "\n",
    "    # Positive pair: Service <-> Type of Repairer (sometimes related)\n",
    "    if service and repairer:\n",
    "        sentence_pairs.append({\n",
    "            \"sentence1\": service,\n",
    "            \"sentence2\": repairer,\n",
    "            \"label\": 1.0\n",
    "        })\n",
    "\n",
    "# Optionally create some negative pairs by pairing random unrelated rows\n",
    "import random\n",
    "\n",
    "num_negatives = len(sentence_pairs)  # Same number as positive for balance\n",
    "\n",
    "for _ in range(num_negatives):\n",
    "    row1 = df.sample(n=1).iloc[0]\n",
    "    row2 = df.sample(n=1).iloc[0]\n",
    "\n",
    "    # Avoid creating false positives\n",
    "    if row1[\"Service\"] != row2[\"Service\"]:\n",
    "        sentence_pairs.append({\n",
    "            \"sentence1\": str(row1[\"Service\"]),\n",
    "            \"sentence2\": str(row2[\"Description\"]),\n",
    "            \"label\": 0.0\n",
    "        })\n",
    "\n",
    "# Convert back to a Hugging Face Dataset or DataFrame for training\n",
    "pairs_df = pd.DataFrame(sentence_pairs)\n",
    "\n",
    "print(f\"Generated {len(pairs_df)} sentence pairs (positive + negative).\")\n",
    "print(pairs_df.head())\n",
    "\n",
    "# Save to CSV for future fine-tuning\n",
    "pairs_df.to_csv(\"Fine_Tune_Dataset.csv\", index=False)\n"
   ]
  },
  {
   "cell_type": "code",
   "execution_count": null,
   "id": "c22ea22e",
   "metadata": {},
   "outputs": [],
   "source": []
  }
 ],
 "metadata": {
  "kernelspec": {
   "display_name": "Python 3.9 (pytorch)",
   "language": "python",
   "name": "pytorch"
  },
  "language_info": {
   "codemirror_mode": {
    "name": "ipython",
    "version": 3
   },
   "file_extension": ".py",
   "mimetype": "text/x-python",
   "name": "python",
   "nbconvert_exporter": "python",
   "pygments_lexer": "ipython3",
   "version": "3.9.18"
  }
 },
 "nbformat": 4,
 "nbformat_minor": 5
}
